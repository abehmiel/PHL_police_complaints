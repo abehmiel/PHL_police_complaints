{
 "cells": [
  {
   "cell_type": "markdown",
   "metadata": {},
   "source": [
    "Load libraries and read data into dataframes"
   ]
  },
  {
   "cell_type": "code",
   "execution_count": 3,
   "metadata": {
    "collapsed": true
   },
   "outputs": [],
   "source": [
    "import pandas as pd"
   ]
  },
  {
   "cell_type": "code",
   "execution_count": 4,
   "metadata": {},
   "outputs": [
    {
     "ename": "UnicodeDecodeError",
     "evalue": "'utf-8' codec can't decode byte 0x89 in position 360: invalid start byte",
     "output_type": "error",
     "traceback": [
      "\u001b[0;31m---------------------------------------------------------------------------\u001b[0m",
      "\u001b[0;31mUnicodeDecodeError\u001b[0m                        Traceback (most recent call last)",
      "\u001b[0;32mpandas/_libs/parsers.pyx\u001b[0m in \u001b[0;36mpandas._libs.parsers.TextReader._convert_tokens\u001b[0;34m()\u001b[0m\n",
      "\u001b[0;32mpandas/_libs/parsers.pyx\u001b[0m in \u001b[0;36mpandas._libs.parsers.TextReader._convert_with_dtype\u001b[0;34m()\u001b[0m\n",
      "\u001b[0;32mpandas/_libs/parsers.pyx\u001b[0m in \u001b[0;36mpandas._libs.parsers.TextReader._string_convert\u001b[0;34m()\u001b[0m\n",
      "\u001b[0;32mpandas/_libs/parsers.pyx\u001b[0m in \u001b[0;36mpandas._libs.parsers._string_box_utf8\u001b[0;34m()\u001b[0m\n",
      "\u001b[0;31mUnicodeDecodeError\u001b[0m: 'utf-8' codec can't decode byte 0x89 in position 360: invalid start byte",
      "\nDuring handling of the above exception, another exception occurred:\n",
      "\u001b[0;31mUnicodeDecodeError\u001b[0m                        Traceback (most recent call last)",
      "\u001b[0;32m<ipython-input-4-44849e019411>\u001b[0m in \u001b[0;36m<module>\u001b[0;34m()\u001b[0m\n\u001b[0;32m----> 1\u001b[0;31m \u001b[0mppd\u001b[0m \u001b[0;34m=\u001b[0m \u001b[0mpd\u001b[0m\u001b[0;34m.\u001b[0m\u001b[0mread_csv\u001b[0m\u001b[0;34m(\u001b[0m\u001b[0;34m\"ppd_complaints.csv\"\u001b[0m\u001b[0;34m)\u001b[0m\u001b[0;34m\u001b[0m\u001b[0m\n\u001b[0m\u001b[1;32m      2\u001b[0m \u001b[0mppd_disc\u001b[0m \u001b[0;34m=\u001b[0m \u001b[0mpd\u001b[0m\u001b[0;34m.\u001b[0m\u001b[0mread_csv\u001b[0m\u001b[0;34m(\u001b[0m\u001b[0;34m\"ppd_complaint_disciplines.csv\"\u001b[0m\u001b[0;34m)\u001b[0m\u001b[0;34m\u001b[0m\u001b[0m\n",
      "\u001b[0;32m~/.local/lib/python3.5/site-packages/pandas/io/parsers.py\u001b[0m in \u001b[0;36mparser_f\u001b[0;34m(filepath_or_buffer, sep, delimiter, header, names, index_col, usecols, squeeze, prefix, mangle_dupe_cols, dtype, engine, converters, true_values, false_values, skipinitialspace, skiprows, nrows, na_values, keep_default_na, na_filter, verbose, skip_blank_lines, parse_dates, infer_datetime_format, keep_date_col, date_parser, dayfirst, iterator, chunksize, compression, thousands, decimal, lineterminator, quotechar, quoting, escapechar, comment, encoding, dialect, tupleize_cols, error_bad_lines, warn_bad_lines, skipfooter, skip_footer, doublequote, delim_whitespace, as_recarray, compact_ints, use_unsigned, low_memory, buffer_lines, memory_map, float_precision)\u001b[0m\n\u001b[1;32m    707\u001b[0m                     skip_blank_lines=skip_blank_lines)\n\u001b[1;32m    708\u001b[0m \u001b[0;34m\u001b[0m\u001b[0m\n\u001b[0;32m--> 709\u001b[0;31m         \u001b[0;32mreturn\u001b[0m \u001b[0m_read\u001b[0m\u001b[0;34m(\u001b[0m\u001b[0mfilepath_or_buffer\u001b[0m\u001b[0;34m,\u001b[0m \u001b[0mkwds\u001b[0m\u001b[0;34m)\u001b[0m\u001b[0;34m\u001b[0m\u001b[0m\n\u001b[0m\u001b[1;32m    710\u001b[0m \u001b[0;34m\u001b[0m\u001b[0m\n\u001b[1;32m    711\u001b[0m     \u001b[0mparser_f\u001b[0m\u001b[0;34m.\u001b[0m\u001b[0m__name__\u001b[0m \u001b[0;34m=\u001b[0m \u001b[0mname\u001b[0m\u001b[0;34m\u001b[0m\u001b[0m\n",
      "\u001b[0;32m~/.local/lib/python3.5/site-packages/pandas/io/parsers.py\u001b[0m in \u001b[0;36m_read\u001b[0;34m(filepath_or_buffer, kwds)\u001b[0m\n\u001b[1;32m    453\u001b[0m \u001b[0;34m\u001b[0m\u001b[0m\n\u001b[1;32m    454\u001b[0m     \u001b[0;32mtry\u001b[0m\u001b[0;34m:\u001b[0m\u001b[0;34m\u001b[0m\u001b[0m\n\u001b[0;32m--> 455\u001b[0;31m         \u001b[0mdata\u001b[0m \u001b[0;34m=\u001b[0m \u001b[0mparser\u001b[0m\u001b[0;34m.\u001b[0m\u001b[0mread\u001b[0m\u001b[0;34m(\u001b[0m\u001b[0mnrows\u001b[0m\u001b[0;34m)\u001b[0m\u001b[0;34m\u001b[0m\u001b[0m\n\u001b[0m\u001b[1;32m    456\u001b[0m     \u001b[0;32mfinally\u001b[0m\u001b[0;34m:\u001b[0m\u001b[0;34m\u001b[0m\u001b[0m\n\u001b[1;32m    457\u001b[0m         \u001b[0mparser\u001b[0m\u001b[0;34m.\u001b[0m\u001b[0mclose\u001b[0m\u001b[0;34m(\u001b[0m\u001b[0;34m)\u001b[0m\u001b[0;34m\u001b[0m\u001b[0m\n",
      "\u001b[0;32m~/.local/lib/python3.5/site-packages/pandas/io/parsers.py\u001b[0m in \u001b[0;36mread\u001b[0;34m(self, nrows)\u001b[0m\n\u001b[1;32m   1067\u001b[0m                 \u001b[0;32mraise\u001b[0m \u001b[0mValueError\u001b[0m\u001b[0;34m(\u001b[0m\u001b[0;34m'skipfooter not supported for iteration'\u001b[0m\u001b[0;34m)\u001b[0m\u001b[0;34m\u001b[0m\u001b[0m\n\u001b[1;32m   1068\u001b[0m \u001b[0;34m\u001b[0m\u001b[0m\n\u001b[0;32m-> 1069\u001b[0;31m         \u001b[0mret\u001b[0m \u001b[0;34m=\u001b[0m \u001b[0mself\u001b[0m\u001b[0;34m.\u001b[0m\u001b[0m_engine\u001b[0m\u001b[0;34m.\u001b[0m\u001b[0mread\u001b[0m\u001b[0;34m(\u001b[0m\u001b[0mnrows\u001b[0m\u001b[0;34m)\u001b[0m\u001b[0;34m\u001b[0m\u001b[0m\n\u001b[0m\u001b[1;32m   1070\u001b[0m \u001b[0;34m\u001b[0m\u001b[0m\n\u001b[1;32m   1071\u001b[0m         \u001b[0;32mif\u001b[0m \u001b[0mself\u001b[0m\u001b[0;34m.\u001b[0m\u001b[0moptions\u001b[0m\u001b[0;34m.\u001b[0m\u001b[0mget\u001b[0m\u001b[0;34m(\u001b[0m\u001b[0;34m'as_recarray'\u001b[0m\u001b[0;34m)\u001b[0m\u001b[0;34m:\u001b[0m\u001b[0;34m\u001b[0m\u001b[0m\n",
      "\u001b[0;32m~/.local/lib/python3.5/site-packages/pandas/io/parsers.py\u001b[0m in \u001b[0;36mread\u001b[0;34m(self, nrows)\u001b[0m\n\u001b[1;32m   1837\u001b[0m     \u001b[0;32mdef\u001b[0m \u001b[0mread\u001b[0m\u001b[0;34m(\u001b[0m\u001b[0mself\u001b[0m\u001b[0;34m,\u001b[0m \u001b[0mnrows\u001b[0m\u001b[0;34m=\u001b[0m\u001b[0;32mNone\u001b[0m\u001b[0;34m)\u001b[0m\u001b[0;34m:\u001b[0m\u001b[0;34m\u001b[0m\u001b[0m\n\u001b[1;32m   1838\u001b[0m         \u001b[0;32mtry\u001b[0m\u001b[0;34m:\u001b[0m\u001b[0;34m\u001b[0m\u001b[0m\n\u001b[0;32m-> 1839\u001b[0;31m             \u001b[0mdata\u001b[0m \u001b[0;34m=\u001b[0m \u001b[0mself\u001b[0m\u001b[0;34m.\u001b[0m\u001b[0m_reader\u001b[0m\u001b[0;34m.\u001b[0m\u001b[0mread\u001b[0m\u001b[0;34m(\u001b[0m\u001b[0mnrows\u001b[0m\u001b[0;34m)\u001b[0m\u001b[0;34m\u001b[0m\u001b[0m\n\u001b[0m\u001b[1;32m   1840\u001b[0m         \u001b[0;32mexcept\u001b[0m \u001b[0mStopIteration\u001b[0m\u001b[0;34m:\u001b[0m\u001b[0;34m\u001b[0m\u001b[0m\n\u001b[1;32m   1841\u001b[0m             \u001b[0;32mif\u001b[0m \u001b[0mself\u001b[0m\u001b[0;34m.\u001b[0m\u001b[0m_first_chunk\u001b[0m\u001b[0;34m:\u001b[0m\u001b[0;34m\u001b[0m\u001b[0m\n",
      "\u001b[0;32mpandas/_libs/parsers.pyx\u001b[0m in \u001b[0;36mpandas._libs.parsers.TextReader.read\u001b[0;34m()\u001b[0m\n",
      "\u001b[0;32mpandas/_libs/parsers.pyx\u001b[0m in \u001b[0;36mpandas._libs.parsers.TextReader._read_low_memory\u001b[0;34m()\u001b[0m\n",
      "\u001b[0;32mpandas/_libs/parsers.pyx\u001b[0m in \u001b[0;36mpandas._libs.parsers.TextReader._read_rows\u001b[0;34m()\u001b[0m\n",
      "\u001b[0;32mpandas/_libs/parsers.pyx\u001b[0m in \u001b[0;36mpandas._libs.parsers.TextReader._convert_column_data\u001b[0;34m()\u001b[0m\n",
      "\u001b[0;32mpandas/_libs/parsers.pyx\u001b[0m in \u001b[0;36mpandas._libs.parsers.TextReader._convert_tokens\u001b[0;34m()\u001b[0m\n",
      "\u001b[0;32mpandas/_libs/parsers.pyx\u001b[0m in \u001b[0;36mpandas._libs.parsers.TextReader._convert_with_dtype\u001b[0;34m()\u001b[0m\n",
      "\u001b[0;32mpandas/_libs/parsers.pyx\u001b[0m in \u001b[0;36mpandas._libs.parsers.TextReader._string_convert\u001b[0;34m()\u001b[0m\n",
      "\u001b[0;32mpandas/_libs/parsers.pyx\u001b[0m in \u001b[0;36mpandas._libs.parsers._string_box_utf8\u001b[0;34m()\u001b[0m\n",
      "\u001b[0;31mUnicodeDecodeError\u001b[0m: 'utf-8' codec can't decode byte 0x89 in position 360: invalid start byte"
     ]
    }
   ],
   "source": [
    "ppd = pd.read_csv(\"ppd_complaints.csv\")\n",
    "ppd_disc = pd.read_csv(\"ppd_complaint_disciplines.csv\")\n"
   ]
  },
  {
   "cell_type": "code",
   "execution_count": 4,
   "metadata": {
    "scrolled": true
   },
   "outputs": [
    {
     "data": {
      "text/html": [
       "<div>\n",
       "<style>\n",
       "    .dataframe thead tr:only-child th {\n",
       "        text-align: right;\n",
       "    }\n",
       "\n",
       "    .dataframe thead th {\n",
       "        text-align: left;\n",
       "    }\n",
       "\n",
       "    .dataframe tbody tr th {\n",
       "        vertical-align: top;\n",
       "    }\n",
       "</style>\n",
       "<table border=\"1\" class=\"dataframe\">\n",
       "  <thead>\n",
       "    <tr style=\"text-align: right;\">\n",
       "      <th></th>\n",
       "      <th>cap_number</th>\n",
       "      <th>date_received</th>\n",
       "      <th>dist_occurrence</th>\n",
       "      <th>general_cap_classification</th>\n",
       "      <th>summary</th>\n",
       "    </tr>\n",
       "  </thead>\n",
       "  <tbody>\n",
       "    <tr>\n",
       "      <th>0</th>\n",
       "      <td>17-0001</td>\n",
       "      <td>2017-01-12 00:00:00</td>\n",
       "      <td>25</td>\n",
       "      <td>UNPROFESSIONAL CONDUCT</td>\n",
       "      <td>The complainant, CN, 59/H/F,states that she wa...</td>\n",
       "    </tr>\n",
       "    <tr>\n",
       "      <th>1</th>\n",
       "      <td>17-0002</td>\n",
       "      <td>2017-01-13 00:00:00</td>\n",
       "      <td>18</td>\n",
       "      <td>LACK OF SERVICE</td>\n",
       "      <td>The complainant, DH, 28/B/M, states that he di...</td>\n",
       "    </tr>\n",
       "    <tr>\n",
       "      <th>2</th>\n",
       "      <td>17-0003</td>\n",
       "      <td>2017-01-12 00:00:00</td>\n",
       "      <td>7</td>\n",
       "      <td>PHYSICAL ABUSE</td>\n",
       "      <td>The complainant, AK, 39/B/M, states that he wa...</td>\n",
       "    </tr>\n",
       "    <tr>\n",
       "      <th>3</th>\n",
       "      <td>17-0004</td>\n",
       "      <td>2017-01-12 00:00:00</td>\n",
       "      <td>3</td>\n",
       "      <td>LACK OF SERVICE</td>\n",
       "      <td>The complainant, EG, stated that she did not r...</td>\n",
       "    </tr>\n",
       "    <tr>\n",
       "      <th>4</th>\n",
       "      <td>17-0005</td>\n",
       "      <td>2017-01-12 00:00:00</td>\n",
       "      <td>35</td>\n",
       "      <td>DOMESTIC</td>\n",
       "      <td>The complainant, IV, 41/B/F, states her ex-hus...</td>\n",
       "    </tr>\n",
       "  </tbody>\n",
       "</table>\n",
       "</div>"
      ],
      "text/plain": [
       "  cap_number        date_received dist_occurrence general_cap_classification  \\\n",
       "0    17-0001  2017-01-12 00:00:00              25     UNPROFESSIONAL CONDUCT   \n",
       "1    17-0002  2017-01-13 00:00:00              18            LACK OF SERVICE   \n",
       "2    17-0003  2017-01-12 00:00:00               7             PHYSICAL ABUSE   \n",
       "3    17-0004  2017-01-12 00:00:00               3            LACK OF SERVICE   \n",
       "4    17-0005  2017-01-12 00:00:00              35                   DOMESTIC   \n",
       "\n",
       "                                             summary  \n",
       "0  The complainant, CN, 59/H/F,states that she wa...  \n",
       "1  The complainant, DH, 28/B/M, states that he di...  \n",
       "2  The complainant, AK, 39/B/M, states that he wa...  \n",
       "3  The complainant, EG, stated that she did not r...  \n",
       "4  The complainant, IV, 41/B/F, states her ex-hus...  "
      ]
     },
     "execution_count": 4,
     "metadata": {},
     "output_type": "execute_result"
    }
   ],
   "source": [
    "ppd.head()"
   ]
  },
  {
   "cell_type": "markdown",
   "metadata": {},
   "source": [
    "Overall, the amount of data is pretty small. Therefore we perform an outer join to the two tables to preserve the summary, classification, etc. We may remove rows later, but for now it's fine."
   ]
  },
  {
   "cell_type": "code",
   "execution_count": 5,
   "metadata": {
    "collapsed": true
   },
   "outputs": [],
   "source": [
    "ppd = ppd.merge(ppd_disc, how='outer', on=\"cap_number\")"
   ]
  },
  {
   "cell_type": "code",
   "execution_count": 6,
   "metadata": {},
   "outputs": [
    {
     "data": {
      "text/html": [
       "<div>\n",
       "<style>\n",
       "    .dataframe thead tr:only-child th {\n",
       "        text-align: right;\n",
       "    }\n",
       "\n",
       "    .dataframe thead th {\n",
       "        text-align: left;\n",
       "    }\n",
       "\n",
       "    .dataframe tbody tr th {\n",
       "        vertical-align: top;\n",
       "    }\n",
       "</style>\n",
       "<table border=\"1\" class=\"dataframe\">\n",
       "  <thead>\n",
       "    <tr style=\"text-align: right;\">\n",
       "      <th></th>\n",
       "      <th>cap_number</th>\n",
       "      <th>date_received</th>\n",
       "      <th>dist_occurrence</th>\n",
       "      <th>general_cap_classification</th>\n",
       "      <th>summary</th>\n",
       "      <th>po_initials</th>\n",
       "      <th>po_race</th>\n",
       "      <th>po_sex</th>\n",
       "      <th>allegations_investigated</th>\n",
       "      <th>investigative_findings</th>\n",
       "      <th>disciplinary_findings</th>\n",
       "    </tr>\n",
       "  </thead>\n",
       "  <tbody>\n",
       "    <tr>\n",
       "      <th>0</th>\n",
       "      <td>17-0001</td>\n",
       "      <td>2017-01-12 00:00:00</td>\n",
       "      <td>25</td>\n",
       "      <td>UNPROFESSIONAL CONDUCT</td>\n",
       "      <td>The complainant, CN, 59/H/F,states that she wa...</td>\n",
       "      <td>CV</td>\n",
       "      <td>White</td>\n",
       "      <td>Male</td>\n",
       "      <td>Unprofessional Conduct</td>\n",
       "      <td>Other than Sustained Finding</td>\n",
       "      <td>Not Applicable</td>\n",
       "    </tr>\n",
       "    <tr>\n",
       "      <th>1</th>\n",
       "      <td>17-0001</td>\n",
       "      <td>2017-01-12 00:00:00</td>\n",
       "      <td>25</td>\n",
       "      <td>UNPROFESSIONAL CONDUCT</td>\n",
       "      <td>The complainant, CN, 59/H/F,states that she wa...</td>\n",
       "      <td>CV</td>\n",
       "      <td>White</td>\n",
       "      <td>Male</td>\n",
       "      <td>Criminal Allegation</td>\n",
       "      <td>Other than Sustained Finding</td>\n",
       "      <td>Not Applicable</td>\n",
       "    </tr>\n",
       "    <tr>\n",
       "      <th>2</th>\n",
       "      <td>17-0002</td>\n",
       "      <td>2017-01-13 00:00:00</td>\n",
       "      <td>18</td>\n",
       "      <td>LACK OF SERVICE</td>\n",
       "      <td>The complainant, DH, 28/B/M, states that he di...</td>\n",
       "      <td>RB</td>\n",
       "      <td>Black</td>\n",
       "      <td>Female</td>\n",
       "      <td>Lack of Service</td>\n",
       "      <td>Sustained Finding</td>\n",
       "      <td>Training/Counseling</td>\n",
       "    </tr>\n",
       "    <tr>\n",
       "      <th>3</th>\n",
       "      <td>17-0002</td>\n",
       "      <td>2017-01-13 00:00:00</td>\n",
       "      <td>18</td>\n",
       "      <td>LACK OF SERVICE</td>\n",
       "      <td>The complainant, DH, 28/B/M, states that he di...</td>\n",
       "      <td>RF</td>\n",
       "      <td>Latino</td>\n",
       "      <td>Male</td>\n",
       "      <td>Lack of Service</td>\n",
       "      <td>Sustained Finding</td>\n",
       "      <td>Training/Counseling</td>\n",
       "    </tr>\n",
       "    <tr>\n",
       "      <th>4</th>\n",
       "      <td>17-0002</td>\n",
       "      <td>2017-01-13 00:00:00</td>\n",
       "      <td>18</td>\n",
       "      <td>LACK OF SERVICE</td>\n",
       "      <td>The complainant, DH, 28/B/M, states that he di...</td>\n",
       "      <td>KB</td>\n",
       "      <td>Black</td>\n",
       "      <td>Male</td>\n",
       "      <td>Lack of Service</td>\n",
       "      <td>Other than Sustained Finding</td>\n",
       "      <td>Not Applicable</td>\n",
       "    </tr>\n",
       "  </tbody>\n",
       "</table>\n",
       "</div>"
      ],
      "text/plain": [
       "  cap_number        date_received dist_occurrence general_cap_classification  \\\n",
       "0    17-0001  2017-01-12 00:00:00              25     UNPROFESSIONAL CONDUCT   \n",
       "1    17-0001  2017-01-12 00:00:00              25     UNPROFESSIONAL CONDUCT   \n",
       "2    17-0002  2017-01-13 00:00:00              18            LACK OF SERVICE   \n",
       "3    17-0002  2017-01-13 00:00:00              18            LACK OF SERVICE   \n",
       "4    17-0002  2017-01-13 00:00:00              18            LACK OF SERVICE   \n",
       "\n",
       "                                             summary po_initials po_race  \\\n",
       "0  The complainant, CN, 59/H/F,states that she wa...          CV   White   \n",
       "1  The complainant, CN, 59/H/F,states that she wa...          CV   White   \n",
       "2  The complainant, DH, 28/B/M, states that he di...          RB   Black   \n",
       "3  The complainant, DH, 28/B/M, states that he di...          RF  Latino   \n",
       "4  The complainant, DH, 28/B/M, states that he di...          KB   Black   \n",
       "\n",
       "   po_sex allegations_investigated        investigative_findings  \\\n",
       "0    Male   Unprofessional Conduct  Other than Sustained Finding   \n",
       "1    Male      Criminal Allegation  Other than Sustained Finding   \n",
       "2  Female          Lack of Service             Sustained Finding   \n",
       "3    Male          Lack of Service             Sustained Finding   \n",
       "4    Male          Lack of Service  Other than Sustained Finding   \n",
       "\n",
       "  disciplinary_findings  \n",
       "0        Not Applicable  \n",
       "1        Not Applicable  \n",
       "2   Training/Counseling  \n",
       "3   Training/Counseling  \n",
       "4        Not Applicable  "
      ]
     },
     "execution_count": 6,
     "metadata": {},
     "output_type": "execute_result"
    }
   ],
   "source": [
    "ppd.head()"
   ]
  },
  {
   "cell_type": "markdown",
   "metadata": {},
   "source": [
    "# Exploratory analysis\n",
    "\n",
    "Print out frequency summaries of various columns in the dataset  "
   ]
  },
  {
   "cell_type": "code",
   "execution_count": 7,
   "metadata": {},
   "outputs": [
    {
     "data": {
      "text/plain": [
       "Pending                         401\n",
       "Other than Sustained Finding    396\n",
       "Sustained Finding                69\n",
       "Name: investigative_findings, dtype: int64"
      ]
     },
     "execution_count": 7,
     "metadata": {},
     "output_type": "execute_result"
    }
   ],
   "source": [
    "ppd[\"investigative_findings\"].value_counts()"
   ]
  },
  {
   "cell_type": "code",
   "execution_count": 8,
   "metadata": {},
   "outputs": [
    {
     "data": {
      "text/plain": [
       "Not Applicable         428\n",
       "Pending                406\n",
       "Training/Counseling     27\n",
       "Guilty Finding           5\n",
       "Name: disciplinary_findings, dtype: int64"
      ]
     },
     "execution_count": 8,
     "metadata": {},
     "output_type": "execute_result"
    }
   ],
   "source": [
    "ppd[\"disciplinary_findings\"].value_counts()"
   ]
  },
  {
   "cell_type": "code",
   "execution_count": 9,
   "metadata": {},
   "outputs": [
    {
     "data": {
      "text/plain": [
       "Investigation OnGoing          401\n",
       "Departmental Violation         138\n",
       "Lack of Service                124\n",
       "Verbal Abuse                    60\n",
       "Physical Abuse                  59\n",
       "Unprofessional Conduct          30\n",
       "Criminal Allegation             21\n",
       "Civil Rights Complaint          11\n",
       "Harassment                      10\n",
       "Domestic                         5\n",
       "Other Misconduct                 3\n",
       "Sexual Crime/Misconduct          2\n",
       "Disciplinary Code Violation      2\n",
       "Name: allegations_investigated, dtype: int64"
      ]
     },
     "execution_count": 9,
     "metadata": {},
     "output_type": "execute_result"
    }
   ],
   "source": [
    "ppd[\"allegations_investigated\"].value_counts()"
   ]
  },
  {
   "cell_type": "code",
   "execution_count": 10,
   "metadata": {},
   "outputs": [
    {
     "data": {
      "text/plain": [
       " DEPARTMENTAL VIOLATIONS       223\n",
       " LACK OF SERVICE               221\n",
       " PHYSICAL ABUSE                161\n",
       " VERBAL ABUSE                   66\n",
       " CRIMINAL ALLEGATION            51\n",
       " NON-INVESTIGATORY INCIDENT     45\n",
       " UNPROFESSIONAL CONDUCT         32\n",
       " HARASSMENT                     24\n",
       " CIVIL RIGHTS COMPLAINT         21\n",
       " DOMESTIC                       11\n",
       " SEXUAL CRIME/MISCONDUCT        10\n",
       " DRUGS                           2\n",
       "Name: general_cap_classification, dtype: int64"
      ]
     },
     "execution_count": 10,
     "metadata": {},
     "output_type": "execute_result"
    }
   ],
   "source": [
    "ppd[\"general_cap_classification\"].value_counts()"
   ]
  },
  {
   "cell_type": "markdown",
   "metadata": {},
   "source": [
    "By far the most common districts for complaints is the 25th district. Some districts may not have any complaints (becuase location is unknown for some). Also, some labels seem to be messed up ('5-') or missing. '77' is the code for the airport."
   ]
  },
  {
   "cell_type": "code",
   "execution_count": 11,
   "metadata": {},
   "outputs": [
    {
     "data": {
      "text/plain": [
       "25     98\n",
       "18     73\n",
       "14     72\n",
       "19     61\n",
       "15     58\n",
       "24     56\n",
       "35     54\n",
       "12     49\n",
       "22     48\n",
       "16     42\n",
       "8      40\n",
       "2      35\n",
       "39     30\n",
       "9      29\n",
       "6      25\n",
       "17     23\n",
       "3      15\n",
       "26     15\n",
       "5      14\n",
       "7      11\n",
       "1      10\n",
       "UNK     6\n",
       "5-      2\n",
       "77      1\n",
       "Name: dist_occurrence, dtype: int64"
      ]
     },
     "execution_count": 11,
     "metadata": {},
     "output_type": "execute_result"
    }
   ],
   "source": [
    "ppd[\"dist_occurrence\"].value_counts()"
   ]
  },
  {
   "cell_type": "markdown",
   "metadata": {},
   "source": [
    "# Analysis of guilty findings"
   ]
  },
  {
   "cell_type": "code",
   "execution_count": 12,
   "metadata": {},
   "outputs": [
    {
     "name": "stdout",
     "output_type": "stream",
     "text": [
      "    cap_number        date_received dist_occurrence  \\\n",
      "88     17-0049  2017-02-06 00:00:00              16   \n",
      "89     17-0049  2017-02-06 00:00:00              16   \n",
      "214    17-0106  2017-03-10 00:00:00              22   \n",
      "215    17-0106  2017-03-10 00:00:00              22   \n",
      "216    17-0106  2017-03-10 00:00:00              22   \n",
      "\n",
      "    general_cap_classification  \\\n",
      "88                  HARASSMENT   \n",
      "89                  HARASSMENT   \n",
      "214                 HARASSMENT   \n",
      "215                 HARASSMENT   \n",
      "216                 HARASSMENT   \n",
      "\n",
      "                                               summary po_initials po_race  \\\n",
      "88   The complainant, GF, 24/F, states that Officer...          AP   Black   \n",
      "89   The complainant, GF, 24/F, states that Officer...          AP   Black   \n",
      "214  The complainant, J.S., 28/B/F, states that Off...          TD   Black   \n",
      "215  The complainant, J.S., 28/B/F, states that Off...          TD   Black   \n",
      "216  The complainant, J.S., 28/B/F, states that Off...          TD   Black   \n",
      "\n",
      "    po_sex allegations_investigated investigative_findings  \\\n",
      "88    Male   Departmental Violation      Sustained Finding   \n",
      "89    Male          Lack of Service      Sustained Finding   \n",
      "214   Male   Departmental Violation      Sustained Finding   \n",
      "215   Male   Departmental Violation      Sustained Finding   \n",
      "216   Male   Departmental Violation      Sustained Finding   \n",
      "\n",
      "    disciplinary_findings  \n",
      "88         Guilty Finding  \n",
      "89         Guilty Finding  \n",
      "214        Guilty Finding  \n",
      "215        Guilty Finding  \n",
      "216        Guilty Finding  \n"
     ]
    }
   ],
   "source": [
    "guiltyfindings = ppd[ppd[\"disciplinary_findings\"] == \"Guilty Finding\"]\n",
    "print(guiltyfindings)"
   ]
  },
  {
   "cell_type": "markdown",
   "metadata": {},
   "source": [
    "There's only two separate cases here, so let's print out the summaries."
   ]
  },
  {
   "cell_type": "code",
   "execution_count": 13,
   "metadata": {},
   "outputs": [
    {
     "name": "stdout",
     "output_type": "stream",
     "text": [
      "The complainant, GF, 24/F, states that Officer AP, conducted himself inappropriately.  According to the complainant, she called 911 to report an assault; Officer AP responded.  At approximately 3:30 PM, she received a text from Officer AP requesting that she call him; he was just checking to see if she was okay.  The complainant called him at approximately 4 PM and left a message on his voicemail saying that she was safe.  She then received another text message from Officer AP stating that he needed to call back and ask her something.  Officer AP next called the complainant at approximately 6 PM and asked her to call him directly and not utilize 911.  He then asked the complainant to go out for dinner; the complainant declined the offer.  Officer AP then made several other comments and suggestions to the complainant that she felt were highly inappropriate.  The complainant ended up blocking the officer's number; she states that during their conversations, Officer AP did not speak of any matters connected with the police report.    \n"
     ]
    }
   ],
   "source": [
    "print(guiltyfindings[\"summary\"][88])"
   ]
  },
  {
   "cell_type": "code",
   "execution_count": 14,
   "metadata": {},
   "outputs": [
    {
     "name": "stdout",
     "output_type": "stream",
     "text": [
      "The complainant, J.S., 28/B/F, states that Officer T.D. inappropriately utilized social media. According to the complaint, her vehicle was vandalized at her residence and she reported the incident to police. Three days later, she was on Facebook, and came across photos of her vandalized vehicle on Officer T.D.'s personal Facebook page. The complainant maintains that Officer T.D. posted specifics about what had been done to her vehicle, included information obtained from another officer about the incident, and openly joked about the incident in his social media postings.  \n"
     ]
    }
   ],
   "source": [
    "print(guiltyfindings[\"summary\"][214])"
   ]
  },
  {
   "cell_type": "markdown",
   "metadata": {},
   "source": [
    "Some things to note: the 5 guilty findings were for 2 different cases, with one case having two violations and the other having three. Both fell into the classification of harrassment. Both POs were male, their victims female. Also in both cases, there was recoverable circumstantial evidence in the form of text messages and/or facebook posts."
   ]
  },
  {
   "cell_type": "markdown",
   "metadata": {},
   "source": [
    "# Analysis of training/counseling findings "
   ]
  },
  {
   "cell_type": "code",
   "execution_count": 15,
   "metadata": {},
   "outputs": [
    {
     "name": "stdout",
     "output_type": "stream",
     "text": [
      "   cap_number        date_received dist_occurrence general_cap_classification  \\\n",
      "2     17-0002  2017-01-13 00:00:00              18            LACK OF SERVICE   \n",
      "3     17-0002  2017-01-13 00:00:00              18            LACK OF SERVICE   \n",
      "31    17-0019  2017-01-20 00:00:00              25               VERBAL ABUSE   \n",
      "32    17-0019  2017-01-20 00:00:00              25               VERBAL ABUSE   \n",
      "84    17-0047  2017-02-02 00:00:00              19    DEPARTMENTAL VIOLATIONS   \n",
      "\n",
      "                                              summary po_initials po_race  \\\n",
      "2   The complainant, DH, 28/B/M, states that he di...          RB   Black   \n",
      "3   The complainant, DH, 28/B/M, states that he di...          RF  Latino   \n",
      "31  The complainant, ET, 42/B/M, states that he wa...          RO   Black   \n",
      "32  The complainant, ET, 42/B/M, states that he wa...          RO   Black   \n",
      "84  The complainant, LF, 55/B/M, states that he is...          VG   Black   \n",
      "\n",
      "    po_sex allegations_investigated investigative_findings  \\\n",
      "2   Female          Lack of Service      Sustained Finding   \n",
      "3     Male          Lack of Service      Sustained Finding   \n",
      "31  Female   Departmental Violation      Sustained Finding   \n",
      "32  Female   Departmental Violation      Sustained Finding   \n",
      "84  Female   Departmental Violation      Sustained Finding   \n",
      "\n",
      "   disciplinary_findings  \n",
      "2    Training/Counseling  \n",
      "3    Training/Counseling  \n",
      "31   Training/Counseling  \n",
      "32   Training/Counseling  \n",
      "84   Training/Counseling  \n"
     ]
    }
   ],
   "source": [
    "tcfindings = ppd[ppd[\"disciplinary_findings\"] == \"Training/Counseling\"]\n",
    "print(tcfindings.head())"
   ]
  },
  {
   "cell_type": "code",
   "execution_count": 16,
   "metadata": {},
   "outputs": [
    {
     "data": {
      "text/plain": [
       "17-0085    3\n",
       "17-0055    2\n",
       "17-0103    2\n",
       "17-0105    2\n",
       "17-0019    2\n",
       "17-0002    2\n",
       "17-0047    2\n",
       "17-0098    1\n",
       "17-0050    1\n",
       "17-0175    1\n",
       "17-0172    1\n",
       "17-0125    1\n",
       "17-0422    1\n",
       "17-0265    1\n",
       "17-0143    1\n",
       "17-0104    1\n",
       "17-0058    1\n",
       "17-0200    1\n",
       "17-0086    1\n",
       "Name: cap_number, dtype: int64"
      ]
     },
     "execution_count": 16,
     "metadata": {},
     "output_type": "execute_result"
    }
   ],
   "source": [
    "tcfindings[\"cap_number\"].value_counts()"
   ]
  },
  {
   "cell_type": "markdown",
   "metadata": {},
   "source": [
    "Eight cases have multiple sustained findings. Overall, slightly more than half of the sustained findings belong to cases with multiple findings (15: > 1 finding, 12: 1 finding)."
   ]
  },
  {
   "cell_type": "code",
   "execution_count": 17,
   "metadata": {},
   "outputs": [
    {
     "data": {
      "text/plain": [
       " DEPARTMENTAL VIOLATIONS    12\n",
       " VERBAL ABUSE                4\n",
       " LACK OF SERVICE             3\n",
       " DOMESTIC                    3\n",
       " PHYSICAL ABUSE              2\n",
       " UNPROFESSIONAL CONDUCT      2\n",
       " SEXUAL CRIME/MISCONDUCT     1\n",
       "Name: general_cap_classification, dtype: int64"
      ]
     },
     "execution_count": 17,
     "metadata": {},
     "output_type": "execute_result"
    }
   ],
   "source": [
    "tcfindings[\"general_cap_classification\"].value_counts()"
   ]
  },
  {
   "cell_type": "code",
   "execution_count": 18,
   "metadata": {},
   "outputs": [
    {
     "data": {
      "text/plain": [
       "Departmental Violation    24\n",
       "Lack of Service            2\n",
       "Domestic                   1\n",
       "Name: allegations_investigated, dtype: int64"
      ]
     },
     "execution_count": 18,
     "metadata": {},
     "output_type": "execute_result"
    }
   ],
   "source": [
    "tcfindings[\"allegations_investigated\"].value_counts()"
   ]
  },
  {
   "cell_type": "code",
   "execution_count": 19,
   "metadata": {},
   "outputs": [
    {
     "data": {
      "text/plain": [
       "Male      18\n",
       "Female     9\n",
       "Name: po_sex, dtype: int64"
      ]
     },
     "execution_count": 19,
     "metadata": {},
     "output_type": "execute_result"
    }
   ],
   "source": [
    "tcfindings[\"po_sex\"].value_counts()"
   ]
  },
  {
   "cell_type": "code",
   "execution_count": 20,
   "metadata": {},
   "outputs": [
    {
     "data": {
      "text/plain": [
       "18    5\n",
       "25    4\n",
       "35    4\n",
       "19    4\n",
       "16    2\n",
       "12    2\n",
       "6     2\n",
       "24    1\n",
       "7     1\n",
       "15    1\n",
       "14    1\n",
       "Name: dist_occurrence, dtype: int64"
      ]
     },
     "execution_count": 20,
     "metadata": {},
     "output_type": "execute_result"
    }
   ],
   "source": [
    "tcfindings[\"dist_occurrence\"].value_counts()"
   ]
  },
  {
   "cell_type": "code",
   "execution_count": null,
   "metadata": {
    "collapsed": true
   },
   "outputs": [],
   "source": []
  },
  {
   "cell_type": "markdown",
   "metadata": {},
   "source": [
    "# By officer\n",
    "\n",
    "Although the data is semi-anonymized, it's still possible to see if there are any spikes in the number of complaints that come from specific officers."
   ]
  },
  {
   "cell_type": "code",
   "execution_count": 21,
   "metadata": {
    "collapsed": true
   },
   "outputs": [],
   "source": [
    "ppd[\"po_id\"] = ppd[[\"po_initials\",\"po_race\",\"po_sex\",\"dist_occurrence\"]].apply(lambda x: '_'.join(x.astype(str)), axis=1)"
   ]
  },
  {
   "cell_type": "code",
   "execution_count": 22,
   "metadata": {
    "scrolled": true
   },
   "outputs": [
    {
     "data": {
      "text/plain": [
       "UNK_UNK_UNK_15        8\n",
       "UNK_UNK_UNK_25        8\n",
       "UNK_UNK_UNK_18        7\n",
       "UNK_UNK_UNK_19        7\n",
       "KC_White_Male_24      6\n",
       "FB_White_Male_14      6\n",
       "KF_White_Male_22      5\n",
       "MK_White_Male_24      5\n",
       "UNK_UNK_UNK_24        5\n",
       "EM_White_Male_24      4\n",
       "FB_White_Male_8       4\n",
       "MS_White_Male_24      4\n",
       "CJ_Black_Male_14      4\n",
       "AC_Black_Male_25      4\n",
       "ER_Black_Male_18      4\n",
       "RM_White_Male_18      4\n",
       "PS_White_Male_25      4\n",
       "UNK_UNK_UNK_9         4\n",
       "JO_White_Male_25      4\n",
       "JH_Black_Female_19    4\n",
       "UNK_UNK_UNK_35        4\n",
       "RW_White_Male_39      4\n",
       "RH_White_Male_2       3\n",
       "MC_White_Male_22      3\n",
       "S_Black_Female_1      3\n",
       "Name: po_id, dtype: int64"
      ]
     },
     "execution_count": 22,
     "metadata": {},
     "output_type": "execute_result"
    }
   ],
   "source": [
    "ppd[\"po_id\"].value_counts().head(25)"
   ]
  },
  {
   "cell_type": "code",
   "execution_count": 24,
   "metadata": {},
   "outputs": [
    {
     "ename": "AttributeError",
     "evalue": "'DataFrame' object has no attribute 'value_counts'",
     "output_type": "error",
     "traceback": [
      "\u001b[0;31m---------------------------------------------------------------------------\u001b[0m",
      "\u001b[0;31mAttributeError\u001b[0m                            Traceback (most recent call last)",
      "\u001b[0;32m<ipython-input-24-e7ec3a6cf7f0>\u001b[0m in \u001b[0;36m<module>\u001b[0;34m()\u001b[0m\n\u001b[0;32m----> 1\u001b[0;31m \u001b[0mppd\u001b[0m\u001b[0;34m[\u001b[0m\u001b[0;34m~\u001b[0m\u001b[0mppd\u001b[0m\u001b[0;34m[\u001b[0m\u001b[0;34m\"po_id\"\u001b[0m\u001b[0;34m]\u001b[0m\u001b[0;34m.\u001b[0m\u001b[0misin\u001b[0m\u001b[0;34m(\u001b[0m\u001b[0;34m[\u001b[0m\u001b[0;34m\"UNK_UNK_UNK_15\"\u001b[0m\u001b[0;34m]\u001b[0m\u001b[0;34m)\u001b[0m\u001b[0;34m]\u001b[0m\u001b[0;34m.\u001b[0m\u001b[0mvalue_counts\u001b[0m\u001b[0;34m(\u001b[0m\u001b[0;34m)\u001b[0m\u001b[0;34m.\u001b[0m\u001b[0mhead\u001b[0m\u001b[0;34m(\u001b[0m\u001b[0;36m25\u001b[0m\u001b[0;34m)\u001b[0m\u001b[0;34m\u001b[0m\u001b[0m\n\u001b[0m",
      "\u001b[0;32m~/.local/lib/python3.5/site-packages/pandas/core/generic.py\u001b[0m in \u001b[0;36m__getattr__\u001b[0;34m(self, name)\u001b[0m\n\u001b[1;32m   3079\u001b[0m             \u001b[0;32mif\u001b[0m \u001b[0mname\u001b[0m \u001b[0;32min\u001b[0m \u001b[0mself\u001b[0m\u001b[0;34m.\u001b[0m\u001b[0m_info_axis\u001b[0m\u001b[0;34m:\u001b[0m\u001b[0;34m\u001b[0m\u001b[0m\n\u001b[1;32m   3080\u001b[0m                 \u001b[0;32mreturn\u001b[0m \u001b[0mself\u001b[0m\u001b[0;34m[\u001b[0m\u001b[0mname\u001b[0m\u001b[0;34m]\u001b[0m\u001b[0;34m\u001b[0m\u001b[0m\n\u001b[0;32m-> 3081\u001b[0;31m             \u001b[0;32mreturn\u001b[0m \u001b[0mobject\u001b[0m\u001b[0;34m.\u001b[0m\u001b[0m__getattribute__\u001b[0m\u001b[0;34m(\u001b[0m\u001b[0mself\u001b[0m\u001b[0;34m,\u001b[0m \u001b[0mname\u001b[0m\u001b[0;34m)\u001b[0m\u001b[0;34m\u001b[0m\u001b[0m\n\u001b[0m\u001b[1;32m   3082\u001b[0m \u001b[0;34m\u001b[0m\u001b[0m\n\u001b[1;32m   3083\u001b[0m     \u001b[0;32mdef\u001b[0m \u001b[0m__setattr__\u001b[0m\u001b[0;34m(\u001b[0m\u001b[0mself\u001b[0m\u001b[0;34m,\u001b[0m \u001b[0mname\u001b[0m\u001b[0;34m,\u001b[0m \u001b[0mvalue\u001b[0m\u001b[0;34m)\u001b[0m\u001b[0;34m:\u001b[0m\u001b[0;34m\u001b[0m\u001b[0m\n",
      "\u001b[0;31mAttributeError\u001b[0m: 'DataFrame' object has no attribute 'value_counts'"
     ]
    }
   ],
   "source": [
    "ppd[~ppd[\"po_id\"].isin([\"UNK_UNK_UNK_15\"])].value_counts().head(25)"
   ]
  },
  {
   "cell_type": "markdown",
   "metadata": {},
   "source": [
    "Many of the \"most commonly offending\" cops were unknown, and not likely to be the same person (or possibly multiple people). Besides that, several police officers had multiple complaints, as many as 6 that were processed or pending. (This count includes pending and resolved cases)"
   ]
  },
  {
   "cell_type": "code",
   "execution_count": null,
   "metadata": {
    "collapsed": true
   },
   "outputs": [],
   "source": []
  }
 ],
 "metadata": {
  "kernelspec": {
   "display_name": "Python 3",
   "language": "python",
   "name": "python3"
  },
  "language_info": {
   "codemirror_mode": {
    "name": "ipython",
    "version": 3
   },
   "file_extension": ".py",
   "mimetype": "text/x-python",
   "name": "python",
   "nbconvert_exporter": "python",
   "pygments_lexer": "ipython3",
   "version": "3.5.2"
  }
 },
 "nbformat": 4,
 "nbformat_minor": 2
}
