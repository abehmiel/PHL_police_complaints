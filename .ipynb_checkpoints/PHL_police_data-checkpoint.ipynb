{
 "cells": [
  {
   "cell_type": "markdown",
   "metadata": {},
   "source": [
    "Load libraries and read data into dataframes"
   ]
  },
  {
   "cell_type": "code",
   "execution_count": 70,
   "metadata": {
    "collapsed": true
   },
   "outputs": [],
   "source": [
    "import pandas as pd\n",
    "import matplotlib.pyplot as plt\n",
    "import seaborn as sns\n",
    "%matplotlib inline"
   ]
  },
  {
   "cell_type": "markdown",
   "metadata": {},
   "source": [
    "Before reading in th data, I had to do some preprocessing to remove Windows line endings. This step actually might not have been necessary, but I like unix formatting. WHat I did in both files was open them in vim and then do:\n",
    "\n",
    ":%s/^M/\\r/g\n",
    "\n",
    "where ^M is not the characters '^M' but instead the keystroke sequence:\n",
    "\n",
    "[hold down ctrl] v m [release ctrl]\n",
    "\n",
    "There were still some non-unicode characters here and there so I had to use a different encoding "
   ]
  },
  {
   "cell_type": "code",
   "execution_count": 71,
   "metadata": {},
   "outputs": [],
   "source": [
    "ppd = pd.read_csv(\"ppd_complaints.csv\", encoding=\"ISO-8859-1\") #need proper encodings\n",
    "ppd_disc = pd.read_csv(\"ppd_complaint_disciplines.csv\", encoding=\"ISO-8859-1\")\n"
   ]
  },
  {
   "cell_type": "code",
   "execution_count": 72,
   "metadata": {
    "scrolled": true
   },
   "outputs": [
    {
     "data": {
      "text/html": [
       "<div>\n",
       "<style scoped>\n",
       "    .dataframe tbody tr th:only-of-type {\n",
       "        vertical-align: middle;\n",
       "    }\n",
       "\n",
       "    .dataframe tbody tr th {\n",
       "        vertical-align: top;\n",
       "    }\n",
       "\n",
       "    .dataframe thead th {\n",
       "        text-align: right;\n",
       "    }\n",
       "</style>\n",
       "<table border=\"1\" class=\"dataframe\">\n",
       "  <thead>\n",
       "    <tr style=\"text-align: right;\">\n",
       "      <th></th>\n",
       "      <th>cap_number</th>\n",
       "      <th>date_received</th>\n",
       "      <th>dist_occurrence</th>\n",
       "      <th>general_cap_classification</th>\n",
       "      <th>summary</th>\n",
       "    </tr>\n",
       "  </thead>\n",
       "  <tbody>\n",
       "    <tr>\n",
       "      <th>0</th>\n",
       "      <td>14-0074</td>\n",
       "      <td>2/19/14 0:00</td>\n",
       "      <td>0</td>\n",
       "      <td>HARASSMENT</td>\n",
       "      <td>The complainant, EP, 32/B/F, Ph#215-908-8247, ...</td>\n",
       "    </tr>\n",
       "    <tr>\n",
       "      <th>1</th>\n",
       "      <td>14-0042</td>\n",
       "      <td>1/27/14 0:00</td>\n",
       "      <td>0</td>\n",
       "      <td>UNPROFESSIONAL CONDUCT</td>\n",
       "      <td>The complainant, HG, 50/B/M, states that he wa...</td>\n",
       "    </tr>\n",
       "    <tr>\n",
       "      <th>2</th>\n",
       "      <td>13-0526</td>\n",
       "      <td>8/26/13 0:00</td>\n",
       "      <td>0</td>\n",
       "      <td>LACK OF SERVICE</td>\n",
       "      <td>The complainant, YG, 31/H/F, states she did no...</td>\n",
       "    </tr>\n",
       "    <tr>\n",
       "      <th>3</th>\n",
       "      <td>13-0332</td>\n",
       "      <td>5/22/13 0:00</td>\n",
       "      <td>0</td>\n",
       "      <td>DEPARTMENTAL VIOLATIONS</td>\n",
       "      <td>The complainant, CM, 62/W/F, states that she w...</td>\n",
       "    </tr>\n",
       "    <tr>\n",
       "      <th>4</th>\n",
       "      <td>17-0539</td>\n",
       "      <td>10/25/17 0:00</td>\n",
       "      <td>1</td>\n",
       "      <td>PHYSICAL ABUSE</td>\n",
       "      <td>The complainant, CB, 71/B/F and HB 73/B/M,  st...</td>\n",
       "    </tr>\n",
       "  </tbody>\n",
       "</table>\n",
       "</div>"
      ],
      "text/plain": [
       "  cap_number  date_received dist_occurrence general_cap_classification  \\\n",
       "0    14-0074   2/19/14 0:00               0                 HARASSMENT   \n",
       "1    14-0042   1/27/14 0:00               0     UNPROFESSIONAL CONDUCT   \n",
       "2    13-0526   8/26/13 0:00               0            LACK OF SERVICE   \n",
       "3    13-0332   5/22/13 0:00               0    DEPARTMENTAL VIOLATIONS   \n",
       "4    17-0539  10/25/17 0:00               1             PHYSICAL ABUSE   \n",
       "\n",
       "                                             summary  \n",
       "0  The complainant, EP, 32/B/F, Ph#215-908-8247, ...  \n",
       "1  The complainant, HG, 50/B/M, states that he wa...  \n",
       "2  The complainant, YG, 31/H/F, states she did no...  \n",
       "3  The complainant, CM, 62/W/F, states that she w...  \n",
       "4  The complainant, CB, 71/B/F and HB 73/B/M,  st...  "
      ]
     },
     "execution_count": 72,
     "metadata": {},
     "output_type": "execute_result"
    }
   ],
   "source": [
    "ppd.head()"
   ]
  },
  {
   "cell_type": "markdown",
   "metadata": {},
   "source": [
    "Overall, the amount of data is relatively small. Therefore we perform an outer join to the two tables to preserve the summary, classification, district of occurrence, and so on."
   ]
  },
  {
   "cell_type": "code",
   "execution_count": 73,
   "metadata": {
    "collapsed": true
   },
   "outputs": [],
   "source": [
    "ppd = ppd.merge(ppd_disc, how='outer', on=\"cap_number\")"
   ]
  },
  {
   "cell_type": "markdown",
   "metadata": {},
   "source": [
    "Now there's only one Data Frame."
   ]
  },
  {
   "cell_type": "code",
   "execution_count": 74,
   "metadata": {},
   "outputs": [
    {
     "data": {
      "text/html": [
       "<div>\n",
       "<style scoped>\n",
       "    .dataframe tbody tr th:only-of-type {\n",
       "        vertical-align: middle;\n",
       "    }\n",
       "\n",
       "    .dataframe tbody tr th {\n",
       "        vertical-align: top;\n",
       "    }\n",
       "\n",
       "    .dataframe thead th {\n",
       "        text-align: right;\n",
       "    }\n",
       "</style>\n",
       "<table border=\"1\" class=\"dataframe\">\n",
       "  <thead>\n",
       "    <tr style=\"text-align: right;\">\n",
       "      <th></th>\n",
       "      <th>cap_number</th>\n",
       "      <th>date_received</th>\n",
       "      <th>dist_occurrence</th>\n",
       "      <th>general_cap_classification</th>\n",
       "      <th>summary</th>\n",
       "      <th>po_initials</th>\n",
       "      <th>po_race</th>\n",
       "      <th>po_sex</th>\n",
       "      <th>allegations_investigated</th>\n",
       "      <th>investigative_findings</th>\n",
       "      <th>disciplinary_findings</th>\n",
       "    </tr>\n",
       "  </thead>\n",
       "  <tbody>\n",
       "    <tr>\n",
       "      <th>0</th>\n",
       "      <td>14-0074</td>\n",
       "      <td>2/19/14 0:00</td>\n",
       "      <td>0</td>\n",
       "      <td>HARASSMENT</td>\n",
       "      <td>The complainant, EP, 32/B/F, Ph#215-908-8247, ...</td>\n",
       "      <td>RB</td>\n",
       "      <td>Black</td>\n",
       "      <td>Male</td>\n",
       "      <td>Criminal Allegation</td>\n",
       "      <td>Other than Sustained Finding</td>\n",
       "      <td>Not Applicable</td>\n",
       "    </tr>\n",
       "    <tr>\n",
       "      <th>1</th>\n",
       "      <td>14-0074</td>\n",
       "      <td>2/19/14 0:00</td>\n",
       "      <td>0</td>\n",
       "      <td>HARASSMENT</td>\n",
       "      <td>The complainant, EP, 32/B/F, Ph#215-908-8247, ...</td>\n",
       "      <td>RB</td>\n",
       "      <td>Black</td>\n",
       "      <td>Male</td>\n",
       "      <td>Departmental Violation</td>\n",
       "      <td>Sustained Finding</td>\n",
       "      <td>Guilty Finding</td>\n",
       "    </tr>\n",
       "    <tr>\n",
       "      <th>2</th>\n",
       "      <td>14-0042</td>\n",
       "      <td>1/27/14 0:00</td>\n",
       "      <td>0</td>\n",
       "      <td>UNPROFESSIONAL CONDUCT</td>\n",
       "      <td>The complainant, HG, 50/B/M, states that he wa...</td>\n",
       "      <td>BW</td>\n",
       "      <td>White</td>\n",
       "      <td>Male</td>\n",
       "      <td>Verbal Abuse</td>\n",
       "      <td>Other than Sustained Finding</td>\n",
       "      <td>Not Applicable</td>\n",
       "    </tr>\n",
       "    <tr>\n",
       "      <th>3</th>\n",
       "      <td>13-0526</td>\n",
       "      <td>8/26/13 0:00</td>\n",
       "      <td>0</td>\n",
       "      <td>LACK OF SERVICE</td>\n",
       "      <td>The complainant, YG, 31/H/F, states she did no...</td>\n",
       "      <td>KD</td>\n",
       "      <td>Black</td>\n",
       "      <td>Female</td>\n",
       "      <td>Lack of Service</td>\n",
       "      <td>Other than Sustained Finding</td>\n",
       "      <td>Not Applicable</td>\n",
       "    </tr>\n",
       "    <tr>\n",
       "      <th>4</th>\n",
       "      <td>13-0526</td>\n",
       "      <td>8/26/13 0:00</td>\n",
       "      <td>0</td>\n",
       "      <td>LACK OF SERVICE</td>\n",
       "      <td>The complainant, YG, 31/H/F, states she did no...</td>\n",
       "      <td>PB</td>\n",
       "      <td>White</td>\n",
       "      <td>Male</td>\n",
       "      <td>Lack of Service</td>\n",
       "      <td>Other than Sustained Finding</td>\n",
       "      <td>Not Applicable</td>\n",
       "    </tr>\n",
       "  </tbody>\n",
       "</table>\n",
       "</div>"
      ],
      "text/plain": [
       "  cap_number date_received dist_occurrence general_cap_classification  \\\n",
       "0    14-0074  2/19/14 0:00               0                 HARASSMENT   \n",
       "1    14-0074  2/19/14 0:00               0                 HARASSMENT   \n",
       "2    14-0042  1/27/14 0:00               0     UNPROFESSIONAL CONDUCT   \n",
       "3    13-0526  8/26/13 0:00               0            LACK OF SERVICE   \n",
       "4    13-0526  8/26/13 0:00               0            LACK OF SERVICE   \n",
       "\n",
       "                                             summary po_initials po_race  \\\n",
       "0  The complainant, EP, 32/B/F, Ph#215-908-8247, ...          RB   Black   \n",
       "1  The complainant, EP, 32/B/F, Ph#215-908-8247, ...          RB   Black   \n",
       "2  The complainant, HG, 50/B/M, states that he wa...          BW   White   \n",
       "3  The complainant, YG, 31/H/F, states she did no...          KD   Black   \n",
       "4  The complainant, YG, 31/H/F, states she did no...          PB   White   \n",
       "\n",
       "   po_sex allegations_investigated        investigative_findings  \\\n",
       "0    Male      Criminal Allegation  Other than Sustained Finding   \n",
       "1    Male   Departmental Violation             Sustained Finding   \n",
       "2    Male             Verbal Abuse  Other than Sustained Finding   \n",
       "3  Female          Lack of Service  Other than Sustained Finding   \n",
       "4    Male          Lack of Service  Other than Sustained Finding   \n",
       "\n",
       "  disciplinary_findings  \n",
       "0        Not Applicable  \n",
       "1        Guilty Finding  \n",
       "2        Not Applicable  \n",
       "3        Not Applicable  \n",
       "4        Not Applicable  "
      ]
     },
     "execution_count": 74,
     "metadata": {},
     "output_type": "execute_result"
    }
   ],
   "source": [
    "ppd.head()"
   ]
  },
  {
   "cell_type": "markdown",
   "metadata": {},
   "source": [
    "# Exploratory analysis\n",
    "\n",
    "We don't quite know what we're looking at yet, so let's print out frequency summaries and/or histograms of various columns in the dataset  "
   ]
  },
  {
   "cell_type": "code",
   "execution_count": 89,
   "metadata": {
    "scrolled": false
   },
   "outputs": [
    {
     "name": "stdout",
     "output_type": "stream",
     "text": [
      "District : Total number of officer complaints\n",
      "15     857\n",
      "25     778\n",
      "35     773\n",
      "19     764\n",
      "14     572\n",
      "22     522\n",
      "18     492\n",
      "24     476\n",
      "12     408\n",
      "6      396\n",
      "2      376\n",
      "39     298\n",
      "8      276\n",
      "3      273\n",
      "9      234\n",
      "16     226\n",
      "17     205\n",
      "7      185\n",
      "26     162\n",
      "5      129\n",
      "1       95\n",
      "UNK     50\n",
      "77      24\n",
      "0        6\n",
      "70       1\n",
      "Name: dist_occurrence, dtype: int64\n"
     ]
    },
    {
     "data": {
      "text/plain": [
       "<matplotlib.axes._subplots.AxesSubplot at 0x7f92013c1f98>"
      ]
     },
     "execution_count": 89,
     "metadata": {},
     "output_type": "execute_result"
    },
    {
     "data": {
      "image/png": "[encoded data removed]",
      "text/plain": [
       "<matplotlib.figure.Figure at 0x7f920176fac8>"
      ]
     },
     "metadata": {},
     "output_type": "display_data"
    }
   ],
   "source": [
    "print('District : Total number of officer complaints')\n",
    "print(ppd[\"dist_occurrence\"].value_counts())\n",
    "ppd[\"dist_occurrence\"].hist(xrot=60)"
   ]
  },
  {
   "cell_type": "markdown",
   "metadata": {},
   "source": [
    "'77' is the code for the airport. I'm not sure what some of the other numbers are. Sorry about the order of all of these x-axis labels, I didn't bother to really make these plots nice n' tidy since they're just primarily for exploring what's in here."
   ]
  },
  {
   "cell_type": "code",
   "execution_count": 79,
   "metadata": {},
   "outputs": [
    {
     "name": "stdout",
     "output_type": "stream",
     "text": [
      "Other than Sustained Finding    6727\n",
      "Sustained Finding               1222\n",
      "Pending                          606\n",
      "investigative_findings             1\n",
      "Name: investigative_findings, dtype: int64\n"
     ]
    },
    {
     "data": {
      "text/plain": [
       "<matplotlib.axes._subplots.AxesSubplot at 0x7f9201775518>"
      ]
     },
     "execution_count": 79,
     "metadata": {},
     "output_type": "execute_result"
    },
    {
     "data": {
      "image/png": "[encoded data removed]",
      "text/plain": [
       "<matplotlib.figure.Figure at 0x7f92017376a0>"
      ]
     },
     "metadata": {},
     "output_type": "display_data"
    }
   ],
   "source": [
    "print(ppd[\"investigative_findings\"].value_counts())\n",
    "ppd[\"investigative_findings\"].hist(xrot=45)"
   ]
  },
  {
   "cell_type": "markdown",
   "metadata": {},
   "source": [
    "The vast majority of pd complaint cases did not sustain the finding levvied aainst the officer. Also looks like there's one case of bad data entry, which we note in case there's more cleaning to be done."
   ]
  },
  {
   "cell_type": "code",
   "execution_count": 90,
   "metadata": {},
   "outputs": [
    {
     "name": "stdout",
     "output_type": "stream",
     "text": [
      "Not Applicable           6732\n",
      "Training/Counseling       840\n",
      "Pending                   728\n",
      "Guilty Finding            160\n",
      "No Guilty Findings         95\n",
      "disciplinary_findings       1\n",
      "Name: disciplinary_findings, dtype: int64\n",
      "0.6274509803921569\n"
     ]
    },
    {
     "data": {
      "image/png": "[encoded data removed]",
      "text/plain": [
       "<matplotlib.figure.Figure at 0x7f9201326ac8>"
      ]
     },
     "metadata": {},
     "output_type": "display_data"
    }
   ],
   "source": [
    "print(ppd[\"disciplinary_findings\"].value_counts())\n",
    "ppd[\"disciplinary_findings\"].hist(xrot=45)"
   ]
  },
  {
   "cell_type": "markdown",
   "metadata": {},
   "source": [
    "When a finding is sustained, most of the officer punishments fall into the 'training/counseling category'. "
   ]
  },
  {
   "cell_type": "code",
   "execution_count": 82,
   "metadata": {},
   "outputs": [
    {
     "name": "stdout",
     "output_type": "stream",
     "text": [
      "Departmental Violation         2857\n",
      "Lack of Service                1456\n",
      "Physical Abuse                 1166\n",
      "Verbal Abuse                   1039\n",
      "Investigation OnGoing           606\n",
      "Unprofessional Conduct          589\n",
      "Harassment                      353\n",
      "Criminal Allegation             285\n",
      "Civil Rights Complaint           94\n",
      "Domestic                         32\n",
      "Sexual Crime/Misconduct          24\n",
      "Falsification                    18\n",
      "Disciplinary Code Violation      17\n",
      "Other Misconduct                 16\n",
      "Drugs                             3\n",
      "allegations_investigated          1\n",
      "Name: allegations_investigated, dtype: int64\n"
     ]
    },
    {
     "data": {
      "text/plain": [
       "<matplotlib.axes._subplots.AxesSubplot at 0x7f920161ba90>"
      ]
     },
     "execution_count": 82,
     "metadata": {},
     "output_type": "execute_result"
    },
    {
     "data": {
      "image/png": "[encoded data removed]",
      "text/plain": [
       "<matplotlib.figure.Figure at 0x7f9201629550>"
      ]
     },
     "metadata": {},
     "output_type": "display_data"
    }
   ],
   "source": [
    "print(ppd[\"allegations_investigated\"].value_counts())\n",
    "ppd[\"allegations_investigated\"].hist(xrot=75)"
   ]
  },
  {
   "cell_type": "markdown",
   "metadata": {},
   "source": [
    "Looks like one row here needs to be cleaned; the \"allegations_investigated\" entry is probably a typo and might need to be cleaned."
   ]
  },
  {
   "cell_type": "code",
   "execution_count": 91,
   "metadata": {},
   "outputs": [
    {
     "name": "stdout",
     "output_type": "stream",
     "text": [
      " DEPARTMENTAL VIOLATIONS       2403\n",
      " PHYSICAL ABUSE                2018\n",
      " LACK OF SERVICE               1501\n",
      " VERBAL ABUSE                   787\n",
      " HARASSMENT                     494\n",
      " UNPROFESSIONAL CONDUCT         433\n",
      " CRIMINAL ALLEGATION            414\n",
      " NON-INVESTIGATORY INCIDENT     259\n",
      " CIVIL RIGHTS COMPLAINT         128\n",
      " DOMESTIC                        72\n",
      " SEXUAL CRIME/MISCONDUCT         50\n",
      " FALSIFICATION                   15\n",
      " DRUGS                            4\n",
      "Name: general_cap_classification, dtype: int64\n"
     ]
    },
    {
     "data": {
      "text/plain": [
       "<matplotlib.axes._subplots.AxesSubplot at 0x7f9201304dd8>"
      ]
     },
     "execution_count": 91,
     "metadata": {},
     "output_type": "execute_result"
    },
    {
     "data": {
      "image/png": "[encoded data removed]",
      "text/plain": [
       "<matplotlib.figure.Figure at 0x7f920154aba8>"
      ]
     },
     "metadata": {},
     "output_type": "display_data"
    }
   ],
   "source": [
    "print(ppd[\"general_cap_classification\"].value_counts())\n",
    "ppd[\"general_cap_classification\"].hist(xrot=75)"
   ]
  },
  {
   "cell_type": "markdown",
   "metadata": {},
   "source": [
    "These violation classifications appear to be slightly different. Here we could probably use a data dictionary to discern the difference."
   ]
  },
  {
   "cell_type": "markdown",
   "metadata": {},
   "source": [
    "# Analysis of guilty findings"
   ]
  },
  {
   "cell_type": "code",
   "execution_count": 92,
   "metadata": {},
   "outputs": [
    {
     "name": "stdout",
     "output_type": "stream",
     "text": [
      "Number of unique guilty findings:  160 \n",
      "\n",
      "     cap_number  date_received dist_occurrence general_cap_classification  \\\n",
      "1       14-0074   2/19/14 0:00               0                 HARASSMENT   \n",
      "279     15-0115   3/17/15 0:00               2             PHYSICAL ABUSE   \n",
      "422     13-0299    5/9/13 0:00               2                 HARASSMENT   \n",
      "438     13-0224   4/17/13 0:00               2                 HARASSMENT   \n",
      "530     16-0196   4/20/16 0:00               3                 HARASSMENT   \n",
      "531     16-0196   4/20/16 0:00               3                 HARASSMENT   \n",
      "559     15-0639  10/29/15 0:00               3    DEPARTMENTAL VIOLATIONS   \n",
      "693     13-0635  10/21/13 0:00               3             PHYSICAL ABUSE   \n",
      "694     13-0635  10/21/13 0:00               3             PHYSICAL ABUSE   \n",
      "695     13-0635  10/21/13 0:00               3             PHYSICAL ABUSE   \n",
      "898     17-0369   7/19/17 0:00               6     UNPROFESSIONAL CONDUCT   \n",
      "1020    15-0488   8/24/15 0:00               6    DEPARTMENTAL VIOLATIONS   \n",
      "1021    15-0488   8/24/15 0:00               6    DEPARTMENTAL VIOLATIONS   \n",
      "1025    15-0427   7/27/15 0:00               6            LACK OF SERVICE   \n",
      "1050    15-0229   5/13/15 0:00               6            LACK OF SERVICE   \n",
      "1051    15-0229   5/13/15 0:00               6            LACK OF SERVICE   \n",
      "1061    15-0167   4/14/15 0:00               6        CRIMINAL ALLEGATION   \n",
      "1135    14-0432    8/5/14 0:00               6     UNPROFESSIONAL CONDUCT   \n",
      "1136    14-0432    8/5/14 0:00               6     UNPROFESSIONAL CONDUCT   \n",
      "1137    14-0432    8/5/14 0:00               6     UNPROFESSIONAL CONDUCT   \n",
      "1164    14-0208   4/23/14 0:00               6            LACK OF SERVICE   \n",
      "1177    14-0056    2/5/14 0:00               6               VERBAL ABUSE   \n",
      "1178    14-0056    2/5/14 0:00               6               VERBAL ABUSE   \n",
      "1187    13-0690  11/15/13 0:00               6               VERBAL ABUSE   \n",
      "1188    13-0690  11/15/13 0:00               6               VERBAL ABUSE   \n",
      "1189    13-0690  11/15/13 0:00               6               VERBAL ABUSE   \n",
      "1190    13-0690  11/15/13 0:00               6               VERBAL ABUSE   \n",
      "1214    13-0592   10/7/13 0:00               6    DEPARTMENTAL VIOLATIONS   \n",
      "1215    13-0592   10/7/13 0:00               6    DEPARTMENTAL VIOLATIONS   \n",
      "1216    13-0592   10/7/13 0:00               6    DEPARTMENTAL VIOLATIONS   \n",
      "...         ...            ...             ...                        ...   \n",
      "7075    14-0021   1/13/14 0:00              25    DEPARTMENTAL VIOLATIONS   \n",
      "7077    14-0021   1/13/14 0:00              25    DEPARTMENTAL VIOLATIONS   \n",
      "7140    13-0520   8/19/13 0:00              25             PHYSICAL ABUSE   \n",
      "7337    15-0593   10/8/15 0:00              26    DEPARTMENTAL VIOLATIONS   \n",
      "7410    13-0669  11/12/13 0:00              26    DEPARTMENTAL VIOLATIONS   \n",
      "7411    13-0669  11/12/13 0:00              26    DEPARTMENTAL VIOLATIONS   \n",
      "7428    13-0240   4/22/13 0:00              26        CRIMINAL ALLEGATION   \n",
      "7627    16-0088   2/23/16 0:00              35    DEPARTMENTAL VIOLATIONS   \n",
      "7628    16-0088   2/23/16 0:00              35    DEPARTMENTAL VIOLATIONS   \n",
      "7775    15-0053    2/6/15 0:00              35             PHYSICAL ABUSE   \n",
      "7796    15-0022   1/22/15 0:00              35    DEPARTMENTAL VIOLATIONS   \n",
      "7837    14-0545   10/1/14 0:00              35                 HARASSMENT   \n",
      "7839    14-0525   9/17/14 0:00              35     UNPROFESSIONAL CONDUCT   \n",
      "7840    14-0525   9/17/14 0:00              35     UNPROFESSIONAL CONDUCT   \n",
      "7841    14-0525   9/17/14 0:00              35     UNPROFESSIONAL CONDUCT   \n",
      "8022    13-0625  10/21/13 0:00              35    DEPARTMENTAL VIOLATIONS   \n",
      "8023    13-0625  10/21/13 0:00              35    DEPARTMENTAL VIOLATIONS   \n",
      "8026    13-0625  10/21/13 0:00              35    DEPARTMENTAL VIOLATIONS   \n",
      "8028    13-0625  10/21/13 0:00              35    DEPARTMENTAL VIOLATIONS   \n",
      "8072    13-0437    7/8/13 0:00              35             PHYSICAL ABUSE   \n",
      "8078    13-0416   6/24/13 0:00              35    DEPARTMENTAL VIOLATIONS   \n",
      "8204    13-0001    1/7/13 0:00              35             PHYSICAL ABUSE   \n",
      "8264    16-0555   11/7/16 0:00              39    DEPARTMENTAL VIOLATIONS   \n",
      "8330    15-0298   6/10/15 0:00              39    DEPARTMENTAL VIOLATIONS   \n",
      "8331    15-0298   6/10/15 0:00              39    DEPARTMENTAL VIOLATIONS   \n",
      "8409    14-0069   2/13/14 0:00              39            LACK OF SERVICE   \n",
      "8447    13-0549    9/9/13 0:00              39    DEPARTMENTAL VIOLATIONS   \n",
      "8480    13-0253   4/29/13 0:00              39            LACK OF SERVICE   \n",
      "8481    13-0253   4/29/13 0:00              39            LACK OF SERVICE   \n",
      "8482    13-0253   4/29/13 0:00              39            LACK OF SERVICE   \n",
      "\n",
      "                                                summary po_initials po_race  \\\n",
      "1     The complainant, EP, 32/B/F, Ph#215-908-8247, ...          RB   Black   \n",
      "279   The complainant, NM, 49/B/M, states that he wa...          FR  Latino   \n",
      "422   The complainant, AH, 27/B/M, states  he is bei...          TM   Other   \n",
      "438   The complainant, CC, 41/B/F, states that Serge...          JM   Black   \n",
      "530   The complainant, JR, states that she has been ...          MS   White   \n",
      "531   The complainant, JR, states that she has been ...          MS   White   \n",
      "559   The complainant, CM, 57/W/F, states that Schoo...          AS   Black   \n",
      "693   The complainant, JT, states that he was physic...           S   Black   \n",
      "694   The complainant, JT, states that he was physic...           S   Black   \n",
      "695   The complainant, JT, states that he was physic...          CM   White   \n",
      "898   The complainant, L.G., states she was verbally...          BJ   Black   \n",
      "1020  The complainant, SP-V, 43/W/F, states that she...          RB   White   \n",
      "1021  The complainant, SP-V, 43/W/F, states that she...          RY   White   \n",
      "1025  The complainant, NH, 21/W/M, states that he di...          TY   Asian   \n",
      "1050  The complainant, JF, 27/F, states that she did...          MS   White   \n",
      "1051  The complainant, JF, 27/F, states that she did...          MS   White   \n",
      "1061  The complainant, WH, 37/B/M, states that he wa...          JA   Black   \n",
      "1135  The complainant, AM, 27/W/F, states she was tr...          SA   Asian   \n",
      "1136  The complainant, AM, 27/W/F, states she was tr...          SA   Asian   \n",
      "1137  The complainant, AM, 27/W/F, states she was tr...          SA   Asian   \n",
      "1164  The complainant, AH, 43/B/M, states Officer RA...          RA   Black   \n",
      "1177  The complainant, BW, 31/B/M, states he was ver...          GD   White   \n",
      "1178  The complainant, BW, 31/B/M, states he was ver...          GD   White   \n",
      "1187  The complainant, MV, 29/W/M, states he was tre...          TW   Black   \n",
      "1188  The complainant, MV, 29/W/M, states he was tre...          TW   Black   \n",
      "1189  The complainant, MV, 29/W/M, states he was tre...          TW   Black   \n",
      "1190  The complainant, MV, 29/W/M, states he was tre...          TW   Black   \n",
      "1214  The complainant, DR, Esquire, on behalf of his...          MW   Black   \n",
      "1215  The complainant, DR, Esquire, on behalf of his...          MW   Black   \n",
      "1216  The complainant, DR, Esquire, on behalf of his...          MW   Black   \n",
      "...                                                 ...         ...     ...   \n",
      "7075  The complainant, AA, 45/M, states he was physi...          EF   Black   \n",
      "7077  The complainant, AA, 45/M, states he was physi...          CQ  Latino   \n",
      "7140  The complainant, LM, 34/B/F, states that she w...          EC   White   \n",
      "7337  The complainant, JM, 50/W/M, states that he wa...          AB  Latino   \n",
      "7410  The complainant, CB, 30/B/M, states he was fal...          SD   White   \n",
      "7411  The complainant, CB, 30/B/M, states he was fal...          SD   White   \n",
      "7428  The complainant, DG, 22/H/M, states that he is...          CJ   White   \n",
      "7627  The complainant, T.G., 27/B/M, states that he ...          JT  Latino   \n",
      "7628  The complainant, T.G., 27/B/M, states that he ...          JT  Latino   \n",
      "7775  The complainant, TL, states that he was physic...          AO   White   \n",
      "7796  The complainants, KE, 25/M, and JP, 25/F, stat...          DS  Latino   \n",
      "7837  The complainant, Latasha Davis, 27/B/F, states...          TR   Black   \n",
      "7839  The complainant, T.N, 33/F, states that she wa...          TB   Black   \n",
      "7840  The complainant, T.N, 33/F, states that she wa...          TB   Black   \n",
      "7841  The complainant, T.N, 33/F, states that she wa...          TB   Black   \n",
      "8022  The complainant, DF, on behalf of her son, CJ,...          JS   White   \n",
      "8023  The complainant, DF, on behalf of her son, CJ,...          JS   White   \n",
      "8026  The complainant, DF, on behalf of her son, CJ,...          MC   White   \n",
      "8028  The complainant, DF, on behalf of her son, CJ,...          MS   White   \n",
      "8072  The complainant, JB, stated that several unkno...          PD   White   \n",
      "8078  The complainant, SW, states that she was treat...          LJ   Black   \n",
      "8204  The complainant, BH, 21/B/F, states that she w...          TD   White   \n",
      "8264  The complainant, SC 38 B/F, states that Office...          LJ   Black   \n",
      "8330  The complainant, TW, 26/B/F, states that she w...          ER   Black   \n",
      "8331  The complainant, TW, 26/B/F, states that she w...          ER   Black   \n",
      "8409  The complainant, KM, 36/B/M, states that he di...          AS  Latino   \n",
      "8447  The complainant, LS, 30/B/F, states that Offic...          WV   Black   \n",
      "8480  The complainant, SJ, 59/B/M, states his proper...          GM   Black   \n",
      "8481  The complainant, SJ, 59/B/M, states his proper...          GM   Black   \n",
      "8482  The complainant, SJ, 59/B/M, states his proper...          GM   Black   \n",
      "\n",
      "      po_sex     allegations_investigated investigative_findings  \\\n",
      "1       Male       Departmental Violation      Sustained Finding   \n",
      "279     Male       Departmental Violation      Sustained Finding   \n",
      "422     Male       Departmental Violation      Sustained Finding   \n",
      "438     Male       Departmental Violation      Sustained Finding   \n",
      "530     Male       Departmental Violation      Sustained Finding   \n",
      "531     Male       Departmental Violation      Sustained Finding   \n",
      "559   Female       Departmental Violation      Sustained Finding   \n",
      "693   Female       Departmental Violation      Sustained Finding   \n",
      "694   Female              Lack of Service      Sustained Finding   \n",
      "695     Male       Departmental Violation      Sustained Finding   \n",
      "898   Female       Unprofessional Conduct      Sustained Finding   \n",
      "1020    Male       Departmental Violation      Sustained Finding   \n",
      "1021    Male       Departmental Violation      Sustained Finding   \n",
      "1025  Female              Lack of Service      Sustained Finding   \n",
      "1050    Male              Lack of Service      Sustained Finding   \n",
      "1051    Male       Unprofessional Conduct      Sustained Finding   \n",
      "1061    Male                     Domestic      Sustained Finding   \n",
      "1135    Male       Departmental Violation      Sustained Finding   \n",
      "1136    Male       Departmental Violation      Sustained Finding   \n",
      "1137    Male       Departmental Violation      Sustained Finding   \n",
      "1164    Male       Departmental Violation      Sustained Finding   \n",
      "1177    Male       Unprofessional Conduct      Sustained Finding   \n",
      "1178    Male                 Verbal Abuse      Sustained Finding   \n",
      "1187    Male       Departmental Violation      Sustained Finding   \n",
      "1188    Male       Departmental Violation      Sustained Finding   \n",
      "1189    Male  Disciplinary Code Violation      Sustained Finding   \n",
      "1190    Male       Departmental Violation      Sustained Finding   \n",
      "1214    Male       Departmental Violation      Sustained Finding   \n",
      "1215    Male       Departmental Violation      Sustained Finding   \n",
      "1216    Male       Departmental Violation      Sustained Finding   \n",
      "...      ...                          ...                    ...   \n",
      "7075  Female       Departmental Violation      Sustained Finding   \n",
      "7077    Male       Departmental Violation      Sustained Finding   \n",
      "7140  Female                 Verbal Abuse      Sustained Finding   \n",
      "7337    Male       Departmental Violation      Sustained Finding   \n",
      "7410    Male       Departmental Violation      Sustained Finding   \n",
      "7411    Male       Departmental Violation      Sustained Finding   \n",
      "7428    Male          Criminal Allegation      Sustained Finding   \n",
      "7627    Male                 Verbal Abuse      Sustained Finding   \n",
      "7628    Male       Unprofessional Conduct      Sustained Finding   \n",
      "7775    Male          Criminal Allegation      Sustained Finding   \n",
      "7796    Male       Departmental Violation      Sustained Finding   \n",
      "7837    Male  Disciplinary Code Violation      Sustained Finding   \n",
      "7839  Female       Departmental Violation      Sustained Finding   \n",
      "7840  Female       Departmental Violation      Sustained Finding   \n",
      "7841  Female  Disciplinary Code Violation      Sustained Finding   \n",
      "8022    Male       Departmental Violation      Sustained Finding   \n",
      "8023    Male       Departmental Violation      Sustained Finding   \n",
      "8026    Male       Departmental Violation      Sustained Finding   \n",
      "8028    Male       Departmental Violation      Sustained Finding   \n",
      "8072    Male       Departmental Violation      Sustained Finding   \n",
      "8078    Male       Departmental Violation      Sustained Finding   \n",
      "8204    Male                 Verbal Abuse      Sustained Finding   \n",
      "8264    Male       Departmental Violation      Sustained Finding   \n",
      "8330    Male                Falsification      Sustained Finding   \n",
      "8331    Male       Departmental Violation      Sustained Finding   \n",
      "8409    Male              Lack of Service      Sustained Finding   \n",
      "8447    Male       Departmental Violation      Sustained Finding   \n",
      "8480    Male       Departmental Violation      Sustained Finding   \n",
      "8481    Male       Departmental Violation      Sustained Finding   \n",
      "8482    Male       Departmental Violation      Sustained Finding   \n",
      "\n",
      "     disciplinary_findings  \n",
      "1           Guilty Finding  \n",
      "279         Guilty Finding  \n",
      "422         Guilty Finding  \n",
      "438         Guilty Finding  \n",
      "530         Guilty Finding  \n",
      "531         Guilty Finding  \n",
      "559         Guilty Finding  \n",
      "693         Guilty Finding  \n",
      "694         Guilty Finding  \n",
      "695         Guilty Finding  \n",
      "898         Guilty Finding  \n",
      "1020        Guilty Finding  \n",
      "1021        Guilty Finding  \n",
      "1025        Guilty Finding  \n",
      "1050        Guilty Finding  \n",
      "1051        Guilty Finding  \n",
      "1061        Guilty Finding  \n",
      "1135        Guilty Finding  \n",
      "1136        Guilty Finding  \n",
      "1137        Guilty Finding  \n",
      "1164        Guilty Finding  \n",
      "1177        Guilty Finding  \n",
      "1178        Guilty Finding  \n",
      "1187        Guilty Finding  \n",
      "1188        Guilty Finding  \n",
      "1189        Guilty Finding  \n",
      "1190        Guilty Finding  \n",
      "1214        Guilty Finding  \n",
      "1215        Guilty Finding  \n",
      "1216        Guilty Finding  \n",
      "...                    ...  \n",
      "7075        Guilty Finding  \n",
      "7077        Guilty Finding  \n",
      "7140        Guilty Finding  \n",
      "7337        Guilty Finding  \n",
      "7410        Guilty Finding  \n",
      "7411        Guilty Finding  \n",
      "7428        Guilty Finding  \n",
      "7627        Guilty Finding  \n",
      "7628        Guilty Finding  \n",
      "7775        Guilty Finding  \n",
      "7796        Guilty Finding  \n",
      "7837        Guilty Finding  \n",
      "7839        Guilty Finding  \n",
      "7840        Guilty Finding  \n",
      "7841        Guilty Finding  \n",
      "8022        Guilty Finding  \n",
      "8023        Guilty Finding  \n",
      "8026        Guilty Finding  \n",
      "8028        Guilty Finding  \n",
      "8072        Guilty Finding  \n",
      "8078        Guilty Finding  \n",
      "8204        Guilty Finding  \n",
      "8264        Guilty Finding  \n",
      "8330        Guilty Finding  \n",
      "8331        Guilty Finding  \n",
      "8409        Guilty Finding  \n",
      "8447        Guilty Finding  \n",
      "8480        Guilty Finding  \n",
      "8481        Guilty Finding  \n",
      "8482        Guilty Finding  \n",
      "\n",
      "[160 rows x 11 columns]\n"
     ]
    }
   ],
   "source": [
    "guiltyfindings = ppd[ppd[\"disciplinary_findings\"] == \"Guilty Finding\"]\n",
    "print(\"Number of unique guilty findings: \", len(guiltyfindings), \"\\n\")\n",
    "print(guiltyfindings)"
   ]
  },
  {
   "cell_type": "markdown",
   "metadata": {},
   "source": [
    "There's 160 cases here, which is much more than I thought there'd be."
   ]
  },
  {
   "cell_type": "markdown",
   "metadata": {},
   "source": [
    "# Analysis of training/counseling findings "
   ]
  },
  {
   "cell_type": "code",
   "execution_count": 44,
   "metadata": {},
   "outputs": [
    {
     "name": "stdout",
     "output_type": "stream",
     "text": [
      "   cap_number date_received dist_occurrence general_cap_classification  \\\n",
      "5     13-0332  5/22/13 0:00               0    DEPARTMENTAL VIOLATIONS   \n",
      "19    17-0131  3/28/17 0:00               1    DEPARTMENTAL VIOLATIONS   \n",
      "53    15-0397  7/17/15 0:00               1                   DOMESTIC   \n",
      "54    15-0397  7/17/15 0:00               1                   DOMESTIC   \n",
      "72    14-0372  7/17/14 0:00               1             PHYSICAL ABUSE   \n",
      "\n",
      "                                              summary po_initials po_race  \\\n",
      "5   The complainant, CM, 62/W/F, states that she w...          EL   Asian   \n",
      "19  The complainant, TA, 26/W/M, states that he wa...          JR   Black   \n",
      "53  The complainant, LJ, 37/B/F, states that she d...          AH   Black   \n",
      "54  The complainant, LJ, 37/B/F, states that she d...          AH   Black   \n",
      "72  The complainant, SN, 35B/F, stated that she wa...          TC   Black   \n",
      "\n",
      "    po_sex allegations_investigated investigative_findings  \\\n",
      "5     Male   Departmental Violation      Sustained Finding   \n",
      "19  Female          Lack of Service      Sustained Finding   \n",
      "53    Male   Departmental Violation      Sustained Finding   \n",
      "54    Male   Departmental Violation      Sustained Finding   \n",
      "72  Female   Departmental Violation      Sustained Finding   \n",
      "\n",
      "   disciplinary_findings  \n",
      "5    Training/Counseling  \n",
      "19   Training/Counseling  \n",
      "53   Training/Counseling  \n",
      "54   Training/Counseling  \n",
      "72   Training/Counseling  \n"
     ]
    }
   ],
   "source": [
    "tcfindings = ppd[ppd[\"disciplinary_findings\"] == \"Training/Counseling\"]\n",
    "print(tcfindings.head())"
   ]
  },
  {
   "cell_type": "code",
   "execution_count": 45,
   "metadata": {},
   "outputs": [
    {
     "data": {
      "text/plain": [
       "13-0280    9\n",
       "13-0686    9\n",
       "15-0333    9\n",
       "16-0458    9\n",
       "14-0403    8\n",
       "15-0183    7\n",
       "14-0616    7\n",
       "13-0661    6\n",
       "13-0198    6\n",
       "13-0068    6\n",
       "13-0722    6\n",
       "14-0579    6\n",
       "13-0106    6\n",
       "14-0605    6\n",
       "15-0097    6\n",
       "13-0238    6\n",
       "14-0556    5\n",
       "14-0612    5\n",
       "16-0035    5\n",
       "15-0331    5\n",
       "13-0098    5\n",
       "14-0118    4\n",
       "16-0270    4\n",
       "16-0439    4\n",
       "13-0629    4\n",
       "14-0062    4\n",
       "14-0373    4\n",
       "16-0303    4\n",
       "16-0008    4\n",
       "17-0341    4\n",
       "          ..\n",
       "16-0621    1\n",
       "13-0184    1\n",
       "13-0440    1\n",
       "16-0324    1\n",
       "15-0695    1\n",
       "15-0430    1\n",
       "13-0080    1\n",
       "15-0074    1\n",
       "16-0453    1\n",
       "15-0069    1\n",
       "14-0725    1\n",
       "16-0608    1\n",
       "14-0357    1\n",
       "15-0459    1\n",
       "16-0579    1\n",
       "14-0133    1\n",
       "13-0664    1\n",
       "14-0516    1\n",
       "14-0688    1\n",
       "14-0186    1\n",
       "14-0690    1\n",
       "13-0107    1\n",
       "14-0696    1\n",
       "13-0600    1\n",
       "14-0592    1\n",
       "13-0570    1\n",
       "13-0681    1\n",
       "16-0531    1\n",
       "15-0050    1\n",
       "16-0188    1\n",
       "Name: cap_number, Length: 461, dtype: int64"
      ]
     },
     "execution_count": 45,
     "metadata": {},
     "output_type": "execute_result"
    }
   ],
   "source": [
    "tcfindings[\"cap_number\"].value_counts()"
   ]
  },
  {
   "cell_type": "markdown",
   "metadata": {},
   "source": [
    "Eight cases have multiple sustained findings. Overall, slightly more than half of the sustained findings belong to cases with multiple findings (15: > 1 finding, 12: 1 finding)."
   ]
  },
  {
   "cell_type": "code",
   "execution_count": 46,
   "metadata": {},
   "outputs": [
    {
     "data": {
      "text/plain": [
       " DEPARTMENTAL VIOLATIONS    288\n",
       " PHYSICAL ABUSE             177\n",
       " LACK OF SERVICE            165\n",
       " VERBAL ABUSE                70\n",
       " CRIMINAL ALLEGATION         52\n",
       " HARASSMENT                  33\n",
       " UNPROFESSIONAL CONDUCT      32\n",
       " DOMESTIC                    10\n",
       " CIVIL RIGHTS COMPLAINT       8\n",
       " SEXUAL CRIME/MISCONDUCT      5\n",
       "Name: general_cap_classification, dtype: int64"
      ]
     },
     "execution_count": 46,
     "metadata": {},
     "output_type": "execute_result"
    }
   ],
   "source": [
    "tcfindings[\"general_cap_classification\"].value_counts()"
   ]
  },
  {
   "cell_type": "code",
   "execution_count": 47,
   "metadata": {},
   "outputs": [
    {
     "data": {
      "text/plain": [
       "Departmental Violation    675\n",
       "Lack of Service           117\n",
       "Verbal Abuse               20\n",
       "Unprofessional Conduct     13\n",
       "Physical Abuse              6\n",
       "Harassment                  3\n",
       "Criminal Allegation         3\n",
       "Domestic                    3\n",
       "Name: allegations_investigated, dtype: int64"
      ]
     },
     "execution_count": 47,
     "metadata": {},
     "output_type": "execute_result"
    }
   ],
   "source": [
    "tcfindings[\"allegations_investigated\"].value_counts()"
   ]
  },
  {
   "cell_type": "code",
   "execution_count": 48,
   "metadata": {},
   "outputs": [
    {
     "data": {
      "text/plain": [
       "Male      688\n",
       "Female    152\n",
       "Name: po_sex, dtype: int64"
      ]
     },
     "execution_count": 48,
     "metadata": {},
     "output_type": "execute_result"
    }
   ],
   "source": [
    "tcfindings[\"po_sex\"].value_counts()"
   ]
  },
  {
   "cell_type": "code",
   "execution_count": 49,
   "metadata": {},
   "outputs": [
    {
     "data": {
      "text/plain": [
       "19     89\n",
       "15     87\n",
       "25     82\n",
       "35     78\n",
       "22     67\n",
       "18     48\n",
       "14     48\n",
       "2      44\n",
       "24     40\n",
       "12     36\n",
       "39     26\n",
       "9      25\n",
       "3      25\n",
       "5      21\n",
       "16     20\n",
       "8      20\n",
       "6      19\n",
       "7      15\n",
       "UNK    15\n",
       "17     12\n",
       "26     12\n",
       "1      10\n",
       "0       1\n",
       "Name: dist_occurrence, dtype: int64"
      ]
     },
     "execution_count": 49,
     "metadata": {},
     "output_type": "execute_result"
    }
   ],
   "source": [
    "tcfindings[\"dist_occurrence\"].value_counts()"
   ]
  },
  {
   "cell_type": "markdown",
   "metadata": {},
   "source": [
    "# By officer\n",
    "\n",
    "Although the data is semi-anonymized, it's still possible to see if there are any spikes in the number of complaints that come from specific officers."
   ]
  },
  {
   "cell_type": "code",
   "execution_count": 50,
   "metadata": {
    "collapsed": true
   },
   "outputs": [],
   "source": [
    "ppd[\"po_id\"] = ppd[[\"po_initials\",\"po_race\",\"po_sex\",\"dist_occurrence\"]].apply(lambda x: '_'.join(x.astype(str)), axis=1)"
   ]
  },
  {
   "cell_type": "code",
   "execution_count": 65,
   "metadata": {
    "scrolled": true
   },
   "outputs": [
    {
     "data": {
      "text/plain": [
       "UNK_UNK_UNK_15       49\n",
       "UNK_UNK_UNK_25       48\n",
       "UNK_UNK_UNK_18       36\n",
       "UNK_UNK_UNK_19       35\n",
       "UNK_UNK_UNK_24       34\n",
       "RP_White_Male_15     33\n",
       "UNK_UNK_UNK_35       33\n",
       "MW_White_Male_15     32\n",
       "UNK_UNK_UNK_22       30\n",
       "RO_White_Male_19     27\n",
       "JW_White_Male_15     27\n",
       "DD_White_Male_14     25\n",
       "ER_Black_Male_18     24\n",
       "UNK_UNK_UNK_39       23\n",
       "JR_White_Male_35     22\n",
       "UNK_UNK_UNK_14       22\n",
       "KL_Black_Male_19     21\n",
       "UNK_UNK_UNK_6        20\n",
       "MC_White_Male_15     20\n",
       "UNK_UNK_UNK_9        20\n",
       "UNK_UNK_UNK_2        20\n",
       "CK_White_Male_14     19\n",
       "DM_White_Male_15     19\n",
       "JO_White_Male_18     19\n",
       "BM_White_Male_14     18\n",
       "LL_White_Male_14     18\n",
       "UNK_UNK_UNK_3        18\n",
       "VH_Black_Male_35     17\n",
       "JM_White_Male_15     17\n",
       "DS_Latino_Male_35    17\n",
       "                     ..\n",
       "JC_Black_Male_15     14\n",
       "RD_White_Male_19     13\n",
       "CM_Black_Male_35     13\n",
       "AC_Black_Male_25     13\n",
       "DT_Asian_Male_35     13\n",
       "JO_White_Male_35     13\n",
       "JO_White_Male_19     13\n",
       "JC_White_Male_14     13\n",
       "SK_White_Male_2      12\n",
       "BM_White_Male_24     12\n",
       "CV_White_Male_25     12\n",
       "JC_White_Male_22     12\n",
       "JR_White_Male_24     12\n",
       "MW_White_Male_17     12\n",
       "MS_Latino_Male_25    12\n",
       "JG_White_Male_19     12\n",
       "MS_White_Male_35     12\n",
       "TW_Black_Male_6      12\n",
       "RG_Black_Male_6      12\n",
       "UNK_UNK_UNK_16       12\n",
       "JB_White_Male_35     12\n",
       "KC_White_Male_24     11\n",
       "WS_Black_Male_25     11\n",
       "JH_White_Male_25     11\n",
       "UNK_UNK_UNK_17       11\n",
       "SM_Black_Male_35     11\n",
       "JP_Black_Male_6      11\n",
       "DM_White_Male_14     11\n",
       "RG_White_Male_19     11\n",
       "JW_White_Male_24     11\n",
       "Name: po_id, Length: 75, dtype: int64"
      ]
     },
     "execution_count": 65,
     "metadata": {},
     "output_type": "execute_result"
    }
   ],
   "source": [
    "ppd[\"po_id\"].value_counts().head(75)"
   ]
  },
  {
   "cell_type": "code",
   "execution_count": 57,
   "metadata": {},
   "outputs": [
    {
     "data": {
      "text/plain": [
       "True"
      ]
     },
     "execution_count": 57,
     "metadata": {},
     "output_type": "execute_result"
    }
   ],
   "source": [
    "\"UNK_UNK_UNK\" not in ppd[\"po_id\"]"
   ]
  },
  {
   "cell_type": "markdown",
   "metadata": {},
   "source": [
    "Many of the \"most commonly offending\" cops were unknown, and not likely to be the same person (or possibly multiple people). Besides that, several police officers had multiple complaints, as many as 6 that were processed or pending. (This count includes pending and resolved cases)\n",
    "\n",
    "More to come...\n"
   ]
  },
  {
   "cell_type": "code",
   "execution_count": null,
   "metadata": {
    "collapsed": true
   },
   "outputs": [],
   "source": []
  }
 ],
 "metadata": {
  "kernelspec": {
   "display_name": "Python 3",
   "language": "python",
   "name": "python3"
  },
  "language_info": {
   "codemirror_mode": {
    "name": "ipython",
    "version": 3
   },
   "file_extension": ".py",
   "mimetype": "text/x-python",
   "name": "python",
   "nbconvert_exporter": "python",
   "pygments_lexer": "ipython3",
   "version": "3.5.2"
  }
 },
 "nbformat": 4,
 "nbformat_minor": 2
}
